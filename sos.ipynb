{
 "cells": [
  {
   "cell_type": "code",
   "execution_count": 12,
   "id": "b6604c84-f0ce-4161-9c66-a620e76c9a7b",
   "metadata": {},
   "outputs": [
    {
     "name": "stdin",
     "output_type": "stream",
     "text": [
      "Hark! Savior of mine, oh great savior! What shall I call thee? Dudeguy\n",
      "Dudeguy! Oh, Dudeguy, I shall sing your praises 'till the end of time! Well, supposing you can get me free from this ditch, that is. How long do you reckon that'll take? In seconds, if you please, I'm rather picky. a\n",
      "Oh, come now, don't play such games with me! I've been having it rough as it is, what with this blasted hole and all. Now, how long do you think you'll take to get me out? a\n",
      "Oh, come now, don't play such games with me! I've been having it rough as it is, what with this blasted hole and all. Now, how long do you think you'll take to get me out? a\n",
      "Oh, come now, don't play such games with me! I've been having it rough as it is, what with this blasted hole and all. Now, how long do you think you'll take to get me out? b\n",
      "Oh, come now, don't play such games with me! I've been having it rough as it is, what with this blasted hole and all. Now, how long do you think you'll take to get me out? 5\n"
     ]
    },
    {
     "name": "stdout",
     "output_type": "stream",
     "text": [
      "Oh! Thanks a ton! Regrettably, I must now admit to you that I am but a clone, and the lad you're *actually* supposed to be freeing is... Well, trapped in a field of his clones, all with issues identical to my predicment prior. Yeah... Good luck with that.\n"
     ]
    }
   ],
   "source": [
    "import time\n",
    "\n",
    "name = input(\"Hark! Savior of mine, oh great savior! What shall I call thee?\")\n",
    "try: duration = int(input(name + \"! Oh, \" + name + \", I shall sing your praises 'till the end of time! Well, supposing you can get me free from this ditch, that is. How long do you reckon that'll take? In seconds, if you please, I'm rather picky.\"))\n",
    "except: duration = \"buh\"\n",
    "    \n",
    "while type(duration) is not int:\n",
    "    try: duration = int(input(\"Oh, come now, don't play such games with me! I've been having it rough as it is, what with this blasted hole and all. Now, how long do you think you'll take to get me out?\"))\n",
    "    except: duration = \"buh\"\n",
    "\n",
    "time.sleep(duration)\n",
    "\n",
    "print(\"Oh! Thanks a ton! Regrettably, I must now admit to you that I am but a clone, and the lad you're *actually* supposed to be freeing is... Well, trapped in a field of his clones, all with issues identical to my predicment prior. Yeah... Good luck with that.\")"
   ]
  },
  {
   "cell_type": "code",
   "execution_count": null,
   "id": "47b66c1d-ebf4-4ae3-881f-696826aa775a",
   "metadata": {},
   "outputs": [],
   "source": []
  }
 ],
 "metadata": {
  "kernelspec": {
   "display_name": "Python 3 (ipykernel)",
   "language": "python",
   "name": "python3"
  },
  "language_info": {
   "codemirror_mode": {
    "name": "ipython",
    "version": 3
   },
   "file_extension": ".py",
   "mimetype": "text/x-python",
   "name": "python",
   "nbconvert_exporter": "python",
   "pygments_lexer": "ipython3",
   "version": "3.12.7"
  }
 },
 "nbformat": 4,
 "nbformat_minor": 5
}
